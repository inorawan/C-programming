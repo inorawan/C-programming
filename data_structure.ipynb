{
  "nbformat": 4,
  "nbformat_minor": 0,
  "metadata": {
    "colab": {
      "provenance": [],
      "authorship_tag": "ABX9TyPQukljJUP2uHjMz6p4xBW9",
      "include_colab_link": true
    },
    "kernelspec": {
      "name": "python3",
      "display_name": "Python 3"
    },
    "language_info": {
      "name": "python"
    }
  },
  "cells": [
    {
      "cell_type": "markdown",
      "metadata": {
        "id": "view-in-github",
        "colab_type": "text"
      },
      "source": [
        "<a href=\"https://colab.research.google.com/github/inorawan/C-programming/blob/main/data_structure.ipynb\" target=\"_parent\"><img src=\"https://colab.research.google.com/assets/colab-badge.svg\" alt=\"Open In Colab\"/></a>"
      ]
    },
    {
      "cell_type": "code",
      "execution_count": 68,
      "metadata": {
        "id": "wYW6S8fpTPWJ"
      },
      "outputs": [],
      "source": [
        "def locate_card(cards, query):\n",
        "\n",
        "  if len(cards) == 0:\n",
        "    return -1\n",
        "\n",
        "  print(\"cards: \", cards)\n",
        "  print(\"query: \", query)\n",
        "\n",
        "  position = 0\n",
        "\n",
        "  while True:\n",
        "\n",
        "    if cards[position] == query:\n",
        "      return position\n",
        "\n",
        "    position += 1\n",
        "\n",
        "    if position == len(cards):\n",
        "      return -1\n",
        "\n",
        "\n"
      ]
    },
    {
      "cell_type": "markdown",
      "source": [
        "# **Tips:**\n",
        "\n",
        "\n",
        "*   Name the function appropriatly and think about what task function will perform\n",
        "*   Discuss the problem with the interviewer if you are unsure how to frame it in abstract terms\n",
        "\n",
        "\n",
        "*   Use descriptive vairiable names, otherwise you may forgot later what this varible represents\n",
        "\n",
        "\n",
        "\n"
      ],
      "metadata": {
        "id": "bkEJRkBkYbc-"
      }
    },
    {
      "cell_type": "markdown",
      "source": [
        "**Come up with some example inputs and outputs Try to cover all edge cases**\n",
        "Before start implementing the function. Make test case that will help to test the function output."
      ],
      "metadata": {
        "id": "LRAEKPKEZRHb"
      }
    },
    {
      "cell_type": "code",
      "source": [
        "cards = [13,11,10,9,8,7,6,5,4,2,1]\n",
        "query = 7\n",
        "output = 5"
      ],
      "metadata": {
        "id": "5dAiJfExZz33"
      },
      "execution_count": 4,
      "outputs": []
    },
    {
      "cell_type": "markdown",
      "source": [
        "Test the function by passing the inputs"
      ],
      "metadata": {
        "id": "7B7IxLU8aGsT"
      }
    },
    {
      "cell_type": "code",
      "source": [
        "result = locate_card(cards, query)\n",
        "print(result)"
      ],
      "metadata": {
        "colab": {
          "base_uri": "https://localhost:8080/"
        },
        "id": "tbCv1Zy4aO1Z",
        "outputId": "f010fe37-ed45-428f-80aa-83971dd9b6c6"
      },
      "execution_count": 47,
      "outputs": [
        {
          "output_type": "stream",
          "name": "stdout",
          "text": [
            "5\n"
          ]
        }
      ]
    },
    {
      "cell_type": "code",
      "source": [
        "result == output"
      ],
      "metadata": {
        "colab": {
          "base_uri": "https://localhost:8080/"
        },
        "id": "B8jich7lan63",
        "outputId": "bfaf6d59-262d-4174-c012-6338b15333c8"
      },
      "execution_count": 48,
      "outputs": [
        {
          "output_type": "execute_result",
          "data": {
            "text/plain": [
              "True"
            ]
          },
          "metadata": {},
          "execution_count": 48
        }
      ]
    },
    {
      "cell_type": "markdown",
      "source": [
        "Both are not same becaue locate_card function is not implemented\n",
        "\n",
        "We will pass our test as dictionaries to make it easier to test them once we implment our function."
      ],
      "metadata": {
        "id": "ajIGHgH-avoD"
      }
    },
    {
      "cell_type": "code",
      "source": [
        "test = {\n",
        "    'input' : {\n",
        "        'cards' : [13, 11, 10, 9, 8, 7, 6, 5, 4, 2, 1],\n",
        "        'query' : 7\n",
        "    },\n",
        "    'output' : 5\n",
        "}"
      ],
      "metadata": {
        "id": "avX8kHTGbLDG"
      },
      "execution_count": 34,
      "outputs": []
    },
    {
      "cell_type": "markdown",
      "source": [
        "This function can now be tested as follows"
      ],
      "metadata": {
        "id": "RvQsivkBbp18"
      }
    },
    {
      "cell_type": "code",
      "source": [
        "locate_card( test['input']['cards'], test['input']['query']) == test['output']\n",
        "locate_card( **test['input']) == test['output']"
      ],
      "metadata": {
        "colab": {
          "base_uri": "https://localhost:8080/"
        },
        "id": "SlIf-g5BbwUj",
        "outputId": "53f1257d-e6ef-4fa7-ef17-136a2fec8eea"
      },
      "execution_count": 49,
      "outputs": [
        {
          "output_type": "execute_result",
          "data": {
            "text/plain": [
              "True"
            ]
          },
          "metadata": {},
          "execution_count": 49
        }
      ]
    },
    {
      "cell_type": "markdown",
      "source": [
        "Our function should be able to handle any set of valid inputs we pass into it. Here' a list some possible variations we might encounter:\n",
        "\n",
        "1.   The number 'query' occurs somewhere in the middle of the list cards.\n",
        "2.   query is the first element of the cards\n",
        "3.   query is last element of the cards.\n",
        "4.   The list cards contains just one element, which is query.\n",
        "5.   The list cards does not contain number query.\n",
        "6.   The list cards is empty.\n",
        "7.   The list cards contain repeating numbers.\n",
        "8.   The number query occurs at more than one position in cards.\n",
        "\n"
      ],
      "metadata": {
        "id": "0TktWpyTcJb0"
      }
    },
    {
      "cell_type": "code",
      "source": [
        "tests = []"
      ],
      "metadata": {
        "id": "HlCrQkSTc9go"
      },
      "execution_count": 10,
      "outputs": []
    },
    {
      "cell_type": "code",
      "source": [
        "# query occurs in the middle\n",
        "tests.append({\n",
        "    'input' : {\n",
        "        'cards' : [13, 11, 10, 9, 8, 7, 6, 5, 4, 2, 1],\n",
        "        'query' : 7\n",
        "    },\n",
        "    'output' : 5\n",
        "})"
      ],
      "metadata": {
        "id": "ooxj8XVCer8h"
      },
      "execution_count": 57,
      "outputs": []
    },
    {
      "cell_type": "code",
      "source": [
        "# query occurs in the first\n",
        "\n",
        "tests.append({\n",
        "    'input' : {\n",
        "        'cards' : [13, 11, 10, 9, 8, 7, 6, 5, 4, 2, 1],\n",
        "        'query' : 13\n",
        "    },\n",
        "    'output' : 0\n",
        "})"
      ],
      "metadata": {
        "id": "-m0dNbbMe3iE"
      },
      "execution_count": 58,
      "outputs": []
    },
    {
      "cell_type": "code",
      "source": [
        "# query occurs in the last\n",
        "\n",
        "tests.append({\n",
        "    'input' : {\n",
        "        'cards' : [13, 11, 10, 9, 8, 7, 6, 5, 4, 2, 1],\n",
        "        'query' : 1\n",
        "    },\n",
        "    'output' : 10\n",
        "})"
      ],
      "metadata": {
        "id": "hdStMHgbfL7m"
      },
      "execution_count": 60,
      "outputs": []
    },
    {
      "cell_type": "code",
      "source": [
        "tests.append({\n",
        "    'input' : {\n",
        "        'cards' : [1],\n",
        "        'query' : 1\n",
        "    },\n",
        "    'output' : 0\n",
        "})"
      ],
      "metadata": {
        "id": "3RcNQ_LbfhSe"
      },
      "execution_count": 61,
      "outputs": []
    },
    {
      "cell_type": "markdown",
      "source": [
        "The problem statement does not specify what to do if the list cards does not contain the number query.\n",
        "1. Read the problem statement again, carefully.\n",
        "2. Look through the examples provided with the problem.\n",
        "3. Ask interviewer/platform for a clarification.\n",
        "4. Make a reasonable assumption, state it and move forward.\n",
        "\n",
        "We will assume  that our function will return -1 in case cards does not contain query."
      ],
      "metadata": {
        "id": "XB0hNnztft7u"
      }
    },
    {
      "cell_type": "code",
      "source": [
        "tests.append({\n",
        "    'input' : {\n",
        "        'cards' : [13, 11, 10, 9, 8, 7, 6, 5, 4, 2, 1],\n",
        "        'query' : 40\n",
        "    },\n",
        "    'output' : -1\n",
        "})"
      ],
      "metadata": {
        "id": "byyfup-hiVUZ"
      },
      "execution_count": 62,
      "outputs": []
    },
    {
      "cell_type": "code",
      "source": [
        "tests.append({\n",
        "    'input' : {\n",
        "        'cards' : [1],\n",
        "        'query' : 4\n",
        "    },\n",
        "    'output' : -1\n",
        "})"
      ],
      "metadata": {
        "id": "t0djfQloiaDb"
      },
      "execution_count": 63,
      "outputs": []
    },
    {
      "cell_type": "code",
      "source": [
        "tests.append({\n",
        "    'input' : {\n",
        "        'cards' : [],\n",
        "        'query' : 4\n",
        "    },\n",
        "    'output' : -1\n",
        "})"
      ],
      "metadata": {
        "id": "o4WocSbWikyk"
      },
      "execution_count": 64,
      "outputs": []
    },
    {
      "cell_type": "code",
      "source": [
        "tests.append({\n",
        "    'input' : {\n",
        "        'cards' : [13, 13, 12, 11, 11, 11, 11, 11, 11, 11, 10, 10, 10, 9, 9, 9, 9, 8, 8, 8, 7, 6, 5, 4, 2, 1],\n",
        "        'query' : 12\n",
        "    },\n",
        "    'output' : 2\n",
        "})"
      ],
      "metadata": {
        "id": "2tXvaBb5iu36"
      },
      "execution_count": 65,
      "outputs": []
    },
    {
      "cell_type": "code",
      "source": [
        "tests.append({\n",
        "    'input' : {\n",
        "        'cards' :[13, 13, 12, 11, 11, 11, 11, 11, 11, 11, 10, 10, 10, 9, 9, 9, 9, 8, 8, 8, 7, 6, 5, 4, 2, 1],\n",
        "        'query' : 11\n",
        "    },\n",
        "    'output' : 3\n",
        "})"
      ],
      "metadata": {
        "id": "ExEy7FkRjR4m"
      },
      "execution_count": 66,
      "outputs": []
    },
    {
      "cell_type": "code",
      "source": [
        "tests.clear()"
      ],
      "metadata": {
        "collapsed": true,
        "id": "Ymdyj0KUjVG2"
      },
      "execution_count": 55,
      "outputs": []
    },
    {
      "cell_type": "code",
      "source": [
        "for test in tests:\n",
        "  print( locate_card(**test['input']), test['output'])"
      ],
      "metadata": {
        "colab": {
          "base_uri": "https://localhost:8080/"
        },
        "id": "XfxC5-hQkvdH",
        "outputId": "4cda1268-b2d4-4572-b853-dff47a5ccd0a"
      },
      "execution_count": 74,
      "outputs": [
        {
          "output_type": "stream",
          "name": "stdout",
          "text": [
            "cards:  [13, 11, 10, 9, 8, 7, 6, 5, 4, 2, 1]\n",
            "query:  7\n",
            "5 5\n",
            "cards:  [13, 11, 10, 9, 8, 7, 6, 5, 4, 2, 1]\n",
            "query:  13\n",
            "0 0\n",
            "cards:  [13, 11, 10, 9, 8, 7, 6, 5, 4, 2, 1]\n",
            "query:  1\n",
            "10 10\n",
            "cards:  [1]\n",
            "query:  1\n",
            "0 0\n",
            "cards:  [13, 11, 10, 9, 8, 7, 6, 5, 4, 2, 1]\n",
            "query:  40\n",
            "-1 -1\n",
            "cards:  [1]\n",
            "query:  4\n",
            "-1 -1\n",
            "-1 -1\n",
            "cards:  [13, 13, 12, 11, 11, 11, 11, 11, 11, 11, 10, 10, 10, 9, 9, 9, 9, 8, 8, 8, 7, 6, 5, 4, 2, 1]\n",
            "query:  12\n",
            "2 2\n",
            "cards:  [13, 13, 12, 11, 11, 11, 11, 11, 11, 11, 10, 10, 10, 9, 9, 9, 9, 8, 8, 8, 7, 6, 5, 4, 2, 1]\n",
            "query:  11\n",
            "3 3\n"
          ]
        }
      ]
    },
    {
      "cell_type": "code",
      "source": [
        "def locate_card_bs(cards, query):\n",
        "\n",
        "  print('cards: ', cards)\n",
        "  print('query: ', query)\n",
        "  start = 0\n",
        "  last = len(cards)-1\n",
        "\n",
        "  while start <= last:\n",
        "\n",
        "    mid = int(( start + last )/2)\n",
        "\n",
        "    if cards[mid] == query:\n",
        "      return mid\n",
        "    elif cards[mid] > query:\n",
        "      start = mid+1\n",
        "    else:\n",
        "       last = mid-1\n",
        "\n",
        "  return -1\n"
      ],
      "metadata": {
        "id": "KH7pZlDxpbkE"
      },
      "execution_count": 81,
      "outputs": []
    },
    {
      "cell_type": "code",
      "source": [
        "for test in tests:\n",
        "  print( locate_card_bs(**test['input']), test['output'])"
      ],
      "metadata": {
        "colab": {
          "base_uri": "https://localhost:8080/"
        },
        "id": "sPj6V5koqfor",
        "outputId": "d2a1c867-a466-4383-f2d4-8117f1d5c1fc"
      },
      "execution_count": 82,
      "outputs": [
        {
          "output_type": "stream",
          "name": "stdout",
          "text": [
            "cards:  [13, 11, 10, 9, 8, 7, 6, 5, 4, 2, 1]\n",
            "query:  7\n",
            "5 5\n",
            "cards:  [13, 11, 10, 9, 8, 7, 6, 5, 4, 2, 1]\n",
            "query:  13\n",
            "0 0\n",
            "cards:  [13, 11, 10, 9, 8, 7, 6, 5, 4, 2, 1]\n",
            "query:  1\n",
            "10 10\n",
            "cards:  [1]\n",
            "query:  1\n",
            "0 0\n",
            "cards:  [13, 11, 10, 9, 8, 7, 6, 5, 4, 2, 1]\n",
            "query:  40\n",
            "-1 -1\n",
            "cards:  [1]\n",
            "query:  4\n",
            "-1 -1\n",
            "cards:  []\n",
            "query:  4\n",
            "-1 -1\n",
            "cards:  [13, 13, 12, 11, 11, 11, 11, 11, 11, 11, 10, 10, 10, 9, 9, 9, 9, 8, 8, 8, 7, 6, 5, 4, 2, 1]\n",
            "query:  12\n",
            "2 2\n",
            "cards:  [13, 13, 12, 11, 11, 11, 11, 11, 11, 11, 10, 10, 10, 9, 9, 9, 9, 8, 8, 8, 7, 6, 5, 4, 2, 1]\n",
            "query:  11\n",
            "5 3\n"
          ]
        }
      ]
    }
  ]
}