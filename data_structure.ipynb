{
  "nbformat": 4,
  "nbformat_minor": 0,
  "metadata": {
    "colab": {
      "provenance": [],
      "authorship_tag": "ABX9TyMgEvwWnKARtEHQGusx5AhU",
      "include_colab_link": true
    },
    "kernelspec": {
      "name": "python3",
      "display_name": "Python 3"
    },
    "language_info": {
      "name": "python"
    }
  },
  "cells": [
    {
      "cell_type": "markdown",
      "metadata": {
        "id": "view-in-github",
        "colab_type": "text"
      },
      "source": [
        "<a href=\"https://colab.research.google.com/github/inorawan/C-programming/blob/main/data_structure.ipynb\" target=\"_parent\"><img src=\"https://colab.research.google.com/assets/colab-badge.svg\" alt=\"Open In Colab\"/></a>"
      ]
    },
    {
      "cell_type": "code",
      "execution_count": 68,
      "metadata": {
        "id": "wYW6S8fpTPWJ"
      },
      "outputs": [],
      "source": [
        "def locate_card(cards, query):\n",
        "\n",
        "  if len(cards) == 0:\n",
        "    return -1\n",
        "\n",
        "  print(\"cards: \", cards)\n",
        "  print(\"query: \", query)\n",
        "\n",
        "  position = 0\n",
        "\n",
        "  while True:\n",
        "\n",
        "    if cards[position] == query:\n",
        "      return position\n",
        "\n",
        "    position += 1\n",
        "\n",
        "    if position == len(cards):\n",
        "      return -1\n",
        "\n",
        "\n"
      ]
    },
    {
      "cell_type": "markdown",
      "source": [
        "# **Tips:**\n",
        "\n",
        "\n",
        "*   Name the function appropriatly and think about what task function will perform\n",
        "*   Discuss the problem with the interviewer if you are unsure how to frame it in abstract terms\n",
        "\n",
        "\n",
        "*   Use descriptive vairiable names, otherwise you may forgot later what this varible represents\n",
        "\n",
        "\n",
        "\n"
      ],
      "metadata": {
        "id": "bkEJRkBkYbc-"
      }
    },
    {
      "cell_type": "markdown",
      "source": [
        "**Come up with some example inputs and outputs Try to cover all edge cases**\n",
        "Before start implementing the function. Make test case that will help to test the function output."
      ],
      "metadata": {
        "id": "LRAEKPKEZRHb"
      }
    },
    {
      "cell_type": "code",
      "source": [
        "cards = [13,11,10,9,8,7,6,5,4,2,1]\n",
        "query = 7\n",
        "output = 5"
      ],
      "metadata": {
        "id": "5dAiJfExZz33"
      },
      "execution_count": 4,
      "outputs": []
    },
    {
      "cell_type": "markdown",
      "source": [
        "Test the function by passing the inputs"
      ],
      "metadata": {
        "id": "7B7IxLU8aGsT"
      }
    },
    {
      "cell_type": "code",
      "source": [
        "result = locate_card(cards, query)\n",
        "print(result)"
      ],
      "metadata": {
        "colab": {
          "base_uri": "https://localhost:8080/"
        },
        "id": "tbCv1Zy4aO1Z",
        "outputId": "f010fe37-ed45-428f-80aa-83971dd9b6c6"
      },
      "execution_count": 47,
      "outputs": [
        {
          "output_type": "stream",
          "name": "stdout",
          "text": [
            "5\n"
          ]
        }
      ]
    },
    {
      "cell_type": "code",
      "source": [
        "result == output"
      ],
      "metadata": {
        "colab": {
          "base_uri": "https://localhost:8080/"
        },
        "id": "B8jich7lan63",
        "outputId": "bfaf6d59-262d-4174-c012-6338b15333c8"
      },
      "execution_count": 48,
      "outputs": [
        {
          "output_type": "execute_result",
          "data": {
            "text/plain": [
              "True"
            ]
          },
          "metadata": {},
          "execution_count": 48
        }
      ]
    },
    {
      "cell_type": "markdown",
      "source": [
        "Both are not same becaue locate_card function is not implemented\n",
        "\n",
        "We will pass our test as dictionaries to make it easier to test them once we implment our function."
      ],
      "metadata": {
        "id": "ajIGHgH-avoD"
      }
    },
    {
      "cell_type": "code",
      "source": [
        "test = {\n",
        "    'input' : {\n",
        "        'cards' : [13, 11, 10, 9, 8, 7, 6, 5, 4, 2, 1],\n",
        "        'query' : 7\n",
        "    },\n",
        "    'output' : 5\n",
        "}"
      ],
      "metadata": {
        "id": "avX8kHTGbLDG"
      },
      "execution_count": 34,
      "outputs": []
    },
    {
      "cell_type": "markdown",
      "source": [
        "This function can now be tested as follows"
      ],
      "metadata": {
        "id": "RvQsivkBbp18"
      }
    },
    {
      "cell_type": "code",
      "source": [
        "locate_card( test['input']['cards'], test['input']['query']) == test['output']\n",
        "locate_card( **test['input']) == test['output']"
      ],
      "metadata": {
        "colab": {
          "base_uri": "https://localhost:8080/"
        },
        "id": "SlIf-g5BbwUj",
        "outputId": "53f1257d-e6ef-4fa7-ef17-136a2fec8eea"
      },
      "execution_count": 49,
      "outputs": [
        {
          "output_type": "execute_result",
          "data": {
            "text/plain": [
              "True"
            ]
          },
          "metadata": {},
          "execution_count": 49
        }
      ]
    },
    {
      "cell_type": "markdown",
      "source": [
        "Our function should be able to handle any set of valid inputs we pass into it. Here' a list some possible variations we might encounter:\n",
        "\n",
        "1.   The number 'query' occurs somewhere in the middle of the list cards.\n",
        "2.   query is the first element of the cards\n",
        "3.   query is last element of the cards.\n",
        "4.   The list cards contains just one element, which is query.\n",
        "5.   The list cards does not contain number query.\n",
        "6.   The list cards is empty.\n",
        "7.   The list cards contain repeating numbers.\n",
        "8.   The number query occurs at more than one position in cards.\n",
        "\n"
      ],
      "metadata": {
        "id": "0TktWpyTcJb0"
      }
    },
    {
      "cell_type": "code",
      "source": [
        "tests = []"
      ],
      "metadata": {
        "id": "HlCrQkSTc9go"
      },
      "execution_count": 10,
      "outputs": []
    },
    {
      "cell_type": "code",
      "source": [
        "# query occurs in the middle\n",
        "tests.append({\n",
        "    'input' : {\n",
        "        'cards' : [13, 11, 10, 9, 8, 7, 6, 5, 4, 2, 1],\n",
        "        'query' : 7\n",
        "    },\n",
        "    'output' : 5\n",
        "})"
      ],
      "metadata": {
        "id": "ooxj8XVCer8h"
      },
      "execution_count": 57,
      "outputs": []
    },
    {
      "cell_type": "code",
      "source": [
        "# query occurs in the first\n",
        "\n",
        "tests.append({\n",
        "    'input' : {\n",
        "        'cards' : [13, 11, 10, 9, 8, 7, 6, 5, 4, 2, 1],\n",
        "        'query' : 13\n",
        "    },\n",
        "    'output' : 0\n",
        "})"
      ],
      "metadata": {
        "id": "-m0dNbbMe3iE"
      },
      "execution_count": 58,
      "outputs": []
    },
    {
      "cell_type": "code",
      "source": [
        "# query occurs in the last\n",
        "\n",
        "tests.append({\n",
        "    'input' : {\n",
        "        'cards' : [13, 11, 10, 9, 8, 7, 6, 5, 4, 2, 1],\n",
        "        'query' : 1\n",
        "    },\n",
        "    'output' : 10\n",
        "})"
      ],
      "metadata": {
        "id": "hdStMHgbfL7m"
      },
      "execution_count": 60,
      "outputs": []
    },
    {
      "cell_type": "code",
      "source": [
        "tests.append({\n",
        "    'input' : {\n",
        "        'cards' : [1],\n",
        "        'query' : 1\n",
        "    },\n",
        "    'output' : 0\n",
        "})"
      ],
      "metadata": {
        "id": "3RcNQ_LbfhSe"
      },
      "execution_count": 61,
      "outputs": []
    },
    {
      "cell_type": "markdown",
      "source": [
        "The problem statement does not specify what to do if the list cards does not contain the number query.\n",
        "1. Read the problem statement again, carefully.\n",
        "2. Look through the examples provided with the problem.\n",
        "3. Ask interviewer/platform for a clarification.\n",
        "4. Make a reasonable assumption, state it and move forward.\n",
        "\n",
        "We will assume  that our function will return -1 in case cards does not contain query."
      ],
      "metadata": {
        "id": "XB0hNnztft7u"
      }
    },
    {
      "cell_type": "code",
      "source": [
        "tests.append({\n",
        "    'input' : {\n",
        "        'cards' : [13, 11, 10, 9, 8, 7, 6, 5, 4, 2, 1],\n",
        "        'query' : 40\n",
        "    },\n",
        "    'output' : -1\n",
        "})"
      ],
      "metadata": {
        "id": "byyfup-hiVUZ"
      },
      "execution_count": 62,
      "outputs": []
    },
    {
      "cell_type": "code",
      "source": [
        "tests.append({\n",
        "    'input' : {\n",
        "        'cards' : [1],\n",
        "        'query' : 4\n",
        "    },\n",
        "    'output' : -1\n",
        "})"
      ],
      "metadata": {
        "id": "t0djfQloiaDb"
      },
      "execution_count": 63,
      "outputs": []
    },
    {
      "cell_type": "code",
      "source": [
        "tests.append({\n",
        "    'input' : {\n",
        "        'cards' : [],\n",
        "        'query' : 4\n",
        "    },\n",
        "    'output' : -1\n",
        "})"
      ],
      "metadata": {
        "id": "o4WocSbWikyk"
      },
      "execution_count": 64,
      "outputs": []
    },
    {
      "cell_type": "code",
      "source": [
        "tests.append({\n",
        "    'input' : {\n",
        "        'cards' : [13, 13, 12, 11, 11, 11, 11, 11, 11, 11, 10, 10, 10, 9, 9, 9, 9, 8, 8, 8, 7, 6, 5, 4, 2, 1],\n",
        "        'query' : 12\n",
        "    },\n",
        "    'output' : 2\n",
        "})"
      ],
      "metadata": {
        "id": "2tXvaBb5iu36"
      },
      "execution_count": 65,
      "outputs": []
    },
    {
      "cell_type": "code",
      "source": [
        "tests.append({\n",
        "    'input' : {\n",
        "        'cards' :[13, 13, 12, 11, 11, 11, 11, 11, 11, 11, 10, 10, 10, 9, 9, 9, 9, 8, 8, 8, 7, 6, 5, 4, 2, 1],\n",
        "        'query' : 11\n",
        "    },\n",
        "    'output' : 3\n",
        "})"
      ],
      "metadata": {
        "id": "ExEy7FkRjR4m"
      },
      "execution_count": 66,
      "outputs": []
    },
    {
      "cell_type": "code",
      "source": [
        "tests.clear()"
      ],
      "metadata": {
        "collapsed": true,
        "id": "Ymdyj0KUjVG2"
      },
      "execution_count": 55,
      "outputs": []
    },
    {
      "cell_type": "code",
      "source": [
        "for test in tests:\n",
        "  print( locate_card(**test['input']), test['output'])"
      ],
      "metadata": {
        "colab": {
          "base_uri": "https://localhost:8080/"
        },
        "collapsed": true,
        "id": "XfxC5-hQkvdH",
        "outputId": "4cda1268-b2d4-4572-b853-dff47a5ccd0a"
      },
      "execution_count": 74,
      "outputs": [
        {
          "output_type": "stream",
          "name": "stdout",
          "text": [
            "cards:  [13, 11, 10, 9, 8, 7, 6, 5, 4, 2, 1]\n",
            "query:  7\n",
            "5 5\n",
            "cards:  [13, 11, 10, 9, 8, 7, 6, 5, 4, 2, 1]\n",
            "query:  13\n",
            "0 0\n",
            "cards:  [13, 11, 10, 9, 8, 7, 6, 5, 4, 2, 1]\n",
            "query:  1\n",
            "10 10\n",
            "cards:  [1]\n",
            "query:  1\n",
            "0 0\n",
            "cards:  [13, 11, 10, 9, 8, 7, 6, 5, 4, 2, 1]\n",
            "query:  40\n",
            "-1 -1\n",
            "cards:  [1]\n",
            "query:  4\n",
            "-1 -1\n",
            "-1 -1\n",
            "cards:  [13, 13, 12, 11, 11, 11, 11, 11, 11, 11, 10, 10, 10, 9, 9, 9, 9, 8, 8, 8, 7, 6, 5, 4, 2, 1]\n",
            "query:  12\n",
            "2 2\n",
            "cards:  [13, 13, 12, 11, 11, 11, 11, 11, 11, 11, 10, 10, 10, 9, 9, 9, 9, 8, 8, 8, 7, 6, 5, 4, 2, 1]\n",
            "query:  11\n",
            "3 3\n"
          ]
        }
      ]
    },
    {
      "cell_type": "code",
      "source": [
        "def test_location( cards, query, mid ):\n",
        "\n",
        "  if cards[mid] == query:\n",
        "    if mid-1 >= 0 and cards[mid-1] == query:\n",
        "      return 'left'\n",
        "    else:\n",
        "      return 'found'\n",
        "  elif cards[mid] > query:\n",
        "    return 'right'\n",
        "  else:\n",
        "    return 'left'\n",
        "\n",
        "\n",
        "\n",
        "def locate_card_bs(cards, query):\n",
        "\n",
        "  print('cards: ', cards)\n",
        "  print('query: ', query)\n",
        "  start = 0\n",
        "  last = len(cards)-1\n",
        "\n",
        "  while start <= last:\n",
        "\n",
        "    mid = ( start + last )//2\n",
        "    result = test_location( cards, query, mid)\n",
        "\n",
        "    if result == 'found':\n",
        "      return mid\n",
        "\n",
        "    elif result == 'right':\n",
        "      start = mid+1\n",
        "    else:\n",
        "       last = mid-1\n",
        "\n",
        "  return -1\n"
      ],
      "metadata": {
        "id": "KH7pZlDxpbkE"
      },
      "execution_count": 88,
      "outputs": []
    },
    {
      "cell_type": "code",
      "source": [
        "for test in tests:\n",
        "  print( locate_card_bs(**test['input']), test['output'])"
      ],
      "metadata": {
        "colab": {
          "base_uri": "https://localhost:8080/"
        },
        "collapsed": true,
        "id": "sPj6V5koqfor",
        "outputId": "a8cbd992-28bc-4a51-cab5-8c22d325711f"
      },
      "execution_count": 89,
      "outputs": [
        {
          "output_type": "stream",
          "name": "stdout",
          "text": [
            "cards:  [13, 11, 10, 9, 8, 7, 6, 5, 4, 2, 1]\n",
            "query:  7\n",
            "5 5\n",
            "cards:  [13, 11, 10, 9, 8, 7, 6, 5, 4, 2, 1]\n",
            "query:  13\n",
            "0 0\n",
            "cards:  [13, 11, 10, 9, 8, 7, 6, 5, 4, 2, 1]\n",
            "query:  1\n",
            "10 10\n",
            "cards:  [1]\n",
            "query:  1\n",
            "0 0\n",
            "cards:  [13, 11, 10, 9, 8, 7, 6, 5, 4, 2, 1]\n",
            "query:  40\n",
            "-1 -1\n",
            "cards:  [1]\n",
            "query:  4\n",
            "-1 -1\n",
            "cards:  []\n",
            "query:  4\n",
            "-1 -1\n",
            "cards:  [13, 13, 12, 11, 11, 11, 11, 11, 11, 11, 10, 10, 10, 9, 9, 9, 9, 8, 8, 8, 7, 6, 5, 4, 2, 1]\n",
            "query:  12\n",
            "2 2\n",
            "cards:  [13, 13, 12, 11, 11, 11, 11, 11, 11, 11, 10, 10, 10, 9, 9, 9, 9, 8, 8, 8, 7, 6, 5, 4, 2, 1]\n",
            "query:  11\n",
            "3 3\n"
          ]
        }
      ]
    },
    {
      "cell_type": "markdown",
      "source": [
        "**Generic Binary Search**\n",
        "Here is the general strategy behind the binary search, which is applicable to a variety of problems:\n",
        "\n",
        "\n",
        "\n",
        "1.   Come up with the a condition to determine whether the answer lies before,after or at a given position.\n",
        "2.   Retrieve the midpoint and middle element of the list.\n",
        "3.   If it is the answer, return the middle position as the number.\n",
        "4.   If answer lies before it, repeat the search with th first half of the list.\n",
        "5.   If answer lies after it, repeat the search with the second half of the list.\n",
        "\n"
      ],
      "metadata": {
        "id": "cR26yR1jxj6e"
      }
    },
    {
      "cell_type": "code",
      "source": [
        "def binary_search(lo, hi, condition):\n",
        "  \"\"\"TODO - add docs \"\"\"\n",
        "  while lo <= hi:\n",
        "\n",
        "    mid = (lo + hi)//2\n",
        "\n",
        "    result = condition(mid)\n",
        "\n",
        "    if result == 'found':\n",
        "      return mid\n",
        "    elif result == 'left':\n",
        "      hi = mid -1\n",
        "    else:\n",
        "      lo = mid +1\n",
        "  return -1"
      ],
      "metadata": {
        "id": "CFAzMrogzJg7"
      },
      "execution_count": 105,
      "outputs": []
    },
    {
      "cell_type": "code",
      "source": [
        "def locate_card_recur( cards, query):\n",
        "\n",
        "  def condition(mid):\n",
        "    if cards[mid] == query:\n",
        "      if mid > 0 and cards[mid-1] == query:\n",
        "        return 'left'\n",
        "      else:\n",
        "        return 'found'\n",
        "    elif cards[mid] > query:\n",
        "      return 'right'\n",
        "    else:\n",
        "      return 'left'\n",
        "\n",
        "  return binary_search( 0, len(cards) - 1, condition)"
      ],
      "metadata": {
        "id": "T2UFsiXK0aZm"
      },
      "execution_count": 98,
      "outputs": []
    },
    {
      "cell_type": "markdown",
      "source": [
        "**Note:** Here we have defined a function within a function, another feature in python. And the inner function can access the variables within the outer function."
      ],
      "metadata": {
        "id": "ais_Nnxv2yfK"
      }
    },
    {
      "cell_type": "code",
      "source": [
        "for test in tests:\n",
        "  print( \"result-->\", locate_card_recur(**test['input']), test['output'])"
      ],
      "metadata": {
        "colab": {
          "base_uri": "https://localhost:8080/"
        },
        "id": "O5hl6IrK1VDF",
        "outputId": "43e18866-b5a2-4904-e6c0-9f3f8579797e"
      },
      "execution_count": 107,
      "outputs": [
        {
          "output_type": "stream",
          "name": "stdout",
          "text": [
            "result--> 5 5\n",
            "result--> 0 0\n",
            "result--> 10 10\n",
            "result--> 0 0\n",
            "result--> -1 -1\n",
            "result--> -1 -1\n",
            "result--> -1 -1\n",
            "result--> 2 2\n",
            "result--> 3 3\n"
          ]
        }
      ]
    },
    {
      "cell_type": "code",
      "source": [
        "def first_last_position( nums, target ):\n",
        "  return first_position( nums, target ), last_position(nums, target)"
      ],
      "metadata": {
        "id": "h2Eew3tw3syy"
      },
      "execution_count": 119,
      "outputs": []
    },
    {
      "cell_type": "code",
      "source": [
        "def last_position( nums, target):\n",
        "\n",
        "  def condition( mid ):\n",
        "\n",
        "    if nums[mid] == target:\n",
        "      if mid < len(nums)- 1 and nums[mid+1] == target:\n",
        "        return 'right'\n",
        "      else :\n",
        "        return 'found'\n",
        "    elif nums[mid] > target:\n",
        "      return 'left'\n",
        "    else:\n",
        "      return 'right'\n",
        "\n",
        "  return binary_search( 0, len(nums) -1 , condition)"
      ],
      "metadata": {
        "id": "_gC47ju3JSf6"
      },
      "execution_count": 117,
      "outputs": []
    },
    {
      "cell_type": "code",
      "source": [
        "def first_position( nums, target ):\n",
        "\n",
        "  def condition(mid):\n",
        "\n",
        "    if nums[mid] == target:\n",
        "\n",
        "      if mid > 0 and nums[mid-1] == target:\n",
        "        return 'left'\n",
        "      else:\n",
        "        return 'found'\n",
        "    elif nums[mid] > target:\n",
        "      return 'left'\n",
        "    else:\n",
        "      return 'right'\n",
        "\n",
        "  return binary_search( 0, len(nums) - 1, condition )"
      ],
      "metadata": {
        "id": "ysqPdOw5KYBa"
      },
      "execution_count": 114,
      "outputs": []
    },
    {
      "cell_type": "code",
      "source": [],
      "metadata": {
        "id": "y0aD0YQJKRSr"
      },
      "execution_count": null,
      "outputs": []
    },
    {
      "cell_type": "code",
      "source": [
        "num = [1, 1, 1, 1, 1, 2, 2, 2, 2, 2, 3, 3, 3, 4, 5, 5, 5, 6, 6, 7, 7, 8, 9]"
      ],
      "metadata": {
        "id": "pdHCYfAp42AV"
      },
      "execution_count": 115,
      "outputs": []
    },
    {
      "cell_type": "code",
      "source": [
        "for i in range(1, 10):\n",
        "  print(i, first_last_position(num, i))"
      ],
      "metadata": {
        "colab": {
          "base_uri": "https://localhost:8080/"
        },
        "id": "mboZNJm-5FNd",
        "outputId": "2cba9445-a284-45fe-9a4f-7de4e918ac80"
      },
      "execution_count": 118,
      "outputs": [
        {
          "output_type": "stream",
          "name": "stdout",
          "text": [
            "1 (0, 4)\n",
            "2 (5, 9)\n",
            "3 (10, 12)\n",
            "4 (13, 13)\n",
            "5 (14, 16)\n",
            "6 (17, 18)\n",
            "7 (19, 20)\n",
            "8 (21, 21)\n",
            "9 (22, 22)\n"
          ]
        }
      ]
    }
  ]
}